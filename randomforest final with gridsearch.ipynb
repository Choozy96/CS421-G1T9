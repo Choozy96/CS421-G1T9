{
 "cells": [
  {
   "cell_type": "code",
   "execution_count": 1,
   "metadata": {},
   "outputs": [],
   "source": [
    "import pandas as pd\n",
    "import numpy as np\n",
    "import matplotlib.pyplot as plt\n",
    "import seaborn as sns\n",
    "from sklearn import preprocessing"
   ]
  },
  {
   "cell_type": "code",
   "execution_count": 2,
   "metadata": {},
   "outputs": [],
   "source": [
    "df = pd.read_csv('hotel_bookings.csv')"
   ]
  },
  {
   "cell_type": "code",
   "execution_count": 3,
   "metadata": {
    "scrolled": true
   },
   "outputs": [],
   "source": [
    "df['children'] = df['children'].fillna(0)"
   ]
  },
  {
   "cell_type": "code",
   "execution_count": 4,
   "metadata": {},
   "outputs": [],
   "source": [
    "df['hotel'] = df['hotel'].map({'Resort Hotel':0, 'City Hotel':1})\n",
    "\n",
    "df['arrival_date_month'] = df['arrival_date_month'].map({'January':1, 'February': 2, 'March':3, 'April':4, 'May':5, 'June':6, 'July':7,\n",
    "                                                            'August':8, 'September':9, 'October':10, 'November':11, 'December':12})"
   ]
  },
  {
   "cell_type": "code",
   "execution_count": 5,
   "metadata": {},
   "outputs": [],
   "source": [
    "def family(data):\n",
    "    if ((data['adults'] > 0) & (data['children'] > 0)):\n",
    "        val = 1\n",
    "    elif ((data['adults'] > 0) & (data['babies'] > 0)):\n",
    "        val = 1\n",
    "    else:\n",
    "        val = 0\n",
    "    return val"
   ]
  },
  {
   "cell_type": "code",
   "execution_count": 6,
   "metadata": {},
   "outputs": [],
   "source": [
    "df[\"is_family\"] = df.apply(family, axis = 1)\n",
    "df[\"total_customer\"] = df[\"adults\"] + df[\"children\"] + df[\"babies\"]"
   ]
  },
  {
   "cell_type": "code",
   "execution_count": 7,
   "metadata": {},
   "outputs": [],
   "source": [
    "df = df.drop(columns = ['adults', 'babies', 'children', 'reservation_status_date', 'reservation_status', 'arrival_date_year', 'arrival_date_week_number', 'arrival_date_day_of_month'])"
   ]
  },
  {
   "cell_type": "code",
   "execution_count": 8,
   "metadata": {},
   "outputs": [],
   "source": [
    "#drop null rows for column \"Country\"\n",
    "\n",
    "df.dropna(subset=['country'],inplace=True)"
   ]
  },
  {
   "cell_type": "code",
   "execution_count": 9,
   "metadata": {},
   "outputs": [
    {
     "name": "stdout",
     "output_type": "stream",
     "text": [
      "<class 'pandas.core.frame.DataFrame'>\n",
      "Int64Index: 118902 entries, 0 to 119389\n",
      "Data columns (total 26 columns):\n",
      " #   Column                          Non-Null Count   Dtype  \n",
      "---  ------                          --------------   -----  \n",
      " 0   hotel                           118902 non-null  int64  \n",
      " 1   is_canceled                     118902 non-null  int64  \n",
      " 2   lead_time                       118902 non-null  int64  \n",
      " 3   arrival_date_month              118902 non-null  int64  \n",
      " 4   stays_in_weekend_nights         118902 non-null  int64  \n",
      " 5   stays_in_week_nights            118902 non-null  int64  \n",
      " 6   meal                            118902 non-null  object \n",
      " 7   country                         118902 non-null  object \n",
      " 8   market_segment                  118902 non-null  object \n",
      " 9   distribution_channel            118902 non-null  object \n",
      " 10  is_repeated_guest               118902 non-null  int64  \n",
      " 11  previous_cancellations          118902 non-null  int64  \n",
      " 12  previous_bookings_not_canceled  118902 non-null  int64  \n",
      " 13  reserved_room_type              118902 non-null  object \n",
      " 14  assigned_room_type              118902 non-null  object \n",
      " 15  booking_changes                 118902 non-null  int64  \n",
      " 16  deposit_type                    118902 non-null  object \n",
      " 17  agent                           102896 non-null  float64\n",
      " 18  company                         6623 non-null    float64\n",
      " 19  days_in_waiting_list            118902 non-null  int64  \n",
      " 20  customer_type                   118902 non-null  object \n",
      " 21  adr                             118902 non-null  float64\n",
      " 22  required_car_parking_spaces     118902 non-null  int64  \n",
      " 23  total_of_special_requests       118902 non-null  int64  \n",
      " 24  is_family                       118902 non-null  int64  \n",
      " 25  total_customer                  118902 non-null  float64\n",
      "dtypes: float64(4), int64(14), object(8)\n",
      "memory usage: 24.5+ MB\n"
     ]
    }
   ],
   "source": [
    "df.info()"
   ]
  },
  {
   "cell_type": "code",
   "execution_count": 10,
   "metadata": {},
   "outputs": [
    {
     "name": "stdout",
     "output_type": "stream",
     "text": [
      "{'BB': 0, 'FB': 1, 'HB': 2, 'SC': 3, 'Undefined': 4}\n",
      "{'ABW': 0, 'AGO': 1, 'AIA': 2, 'ALB': 3, 'AND': 4, 'ARE': 5, 'ARG': 6, 'ARM': 7, 'ASM': 8, 'ATA': 9, 'ATF': 10, 'AUS': 11, 'AUT': 12, 'AZE': 13, 'BDI': 14, 'BEL': 15, 'BEN': 16, 'BFA': 17, 'BGD': 18, 'BGR': 19, 'BHR': 20, 'BHS': 21, 'BIH': 22, 'BLR': 23, 'BOL': 24, 'BRA': 25, 'BRB': 26, 'BWA': 27, 'CAF': 28, 'CHE': 29, 'CHL': 30, 'CHN': 31, 'CIV': 32, 'CMR': 33, 'CN': 34, 'COL': 35, 'COM': 36, 'CPV': 37, 'CRI': 38, 'CUB': 39, 'CYM': 40, 'CYP': 41, 'CZE': 42, 'DEU': 43, 'DJI': 44, 'DMA': 45, 'DNK': 46, 'DOM': 47, 'DZA': 48, 'ECU': 49, 'EGY': 50, 'ESP': 51, 'EST': 52, 'ETH': 53, 'FIN': 54, 'FJI': 55, 'FRA': 56, 'FRO': 57, 'GAB': 58, 'GBR': 59, 'GEO': 60, 'GGY': 61, 'GHA': 62, 'GIB': 63, 'GLP': 64, 'GNB': 65, 'GRC': 66, 'GTM': 67, 'GUY': 68, 'HKG': 69, 'HND': 70, 'HRV': 71, 'HUN': 72, 'IDN': 73, 'IMN': 74, 'IND': 75, 'IRL': 76, 'IRN': 77, 'IRQ': 78, 'ISL': 79, 'ISR': 80, 'ITA': 81, 'JAM': 82, 'JEY': 83, 'JOR': 84, 'JPN': 85, 'KAZ': 86, 'KEN': 87, 'KHM': 88, 'KIR': 89, 'KNA': 90, 'KOR': 91, 'KWT': 92, 'LAO': 93, 'LBN': 94, 'LBY': 95, 'LCA': 96, 'LIE': 97, 'LKA': 98, 'LTU': 99, 'LUX': 100, 'LVA': 101, 'MAC': 102, 'MAR': 103, 'MCO': 104, 'MDG': 105, 'MDV': 106, 'MEX': 107, 'MKD': 108, 'MLI': 109, 'MLT': 110, 'MMR': 111, 'MNE': 112, 'MOZ': 113, 'MRT': 114, 'MUS': 115, 'MWI': 116, 'MYS': 117, 'MYT': 118, 'NAM': 119, 'NCL': 120, 'NGA': 121, 'NIC': 122, 'NLD': 123, 'NOR': 124, 'NPL': 125, 'NZL': 126, 'OMN': 127, 'PAK': 128, 'PAN': 129, 'PER': 130, 'PHL': 131, 'PLW': 132, 'POL': 133, 'PRI': 134, 'PRT': 135, 'PRY': 136, 'PYF': 137, 'QAT': 138, 'ROU': 139, 'RUS': 140, 'RWA': 141, 'SAU': 142, 'SDN': 143, 'SEN': 144, 'SGP': 145, 'SLE': 146, 'SLV': 147, 'SMR': 148, 'SRB': 149, 'STP': 150, 'SUR': 151, 'SVK': 152, 'SVN': 153, 'SWE': 154, 'SYC': 155, 'SYR': 156, 'TGO': 157, 'THA': 158, 'TJK': 159, 'TMP': 160, 'TUN': 161, 'TUR': 162, 'TWN': 163, 'TZA': 164, 'UGA': 165, 'UKR': 166, 'UMI': 167, 'URY': 168, 'USA': 169, 'UZB': 170, 'VEN': 171, 'VGB': 172, 'VNM': 173, 'ZAF': 174, 'ZMB': 175, 'ZWE': 176}\n",
      "{'Aviation': 0, 'Complementary': 1, 'Corporate': 2, 'Direct': 3, 'Groups': 4, 'Offline TA/TO': 5, 'Online TA': 6, 'Undefined': 7}\n",
      "{'Corporate': 0, 'Direct': 1, 'GDS': 2, 'TA/TO': 3, 'Undefined': 4}\n",
      "{'A': 0, 'B': 1, 'C': 2, 'D': 3, 'E': 4, 'F': 5, 'G': 6, 'H': 7, 'L': 8, 'P': 9}\n",
      "{'A': 0, 'B': 1, 'C': 2, 'D': 3, 'E': 4, 'F': 5, 'G': 6, 'H': 7, 'I': 8, 'K': 9, 'L': 10, 'P': 11}\n",
      "{'No Deposit': 0, 'Non Refund': 1, 'Refundable': 2}\n",
      "{'Contract': 0, 'Group': 1, 'Transient': 2, 'Transient-Party': 3}\n"
     ]
    }
   ],
   "source": [
    "#columns to encode\n",
    "\n",
    "# to_encode = [\"deposit_type\", \"customer_type\", \"hotel\" , \"meal\", 'country','market_segment',\"distribution_channel\",'assigned_room_type', 'reserved_room_type', \"arrival_date_month\"]\n",
    "to_encode = [\"meal\", \"country\", \"market_segment\", \"distribution_channel\", \"reserved_room_type\", \"assigned_room_type\", \"deposit_type\", \"customer_type\"]\n",
    "\n",
    "for column in df.columns:\n",
    "    if column in to_encode:\n",
    "        le = preprocessing.LabelEncoder()\n",
    "        le.fit(df[column].astype(str))\n",
    "        df[column]=le.transform(df[column])\n",
    "        keys = le.classes_\n",
    "        values = le.transform(le.classes_)\n",
    "        dictionary = dict(zip(keys, values))\n",
    "        print(dictionary)"
   ]
  },
  {
   "cell_type": "code",
   "execution_count": 11,
   "metadata": {},
   "outputs": [
    {
     "name": "stdout",
     "output_type": "stream",
     "text": [
      "<class 'pandas.core.frame.DataFrame'>\n",
      "Int64Index: 118902 entries, 0 to 119389\n",
      "Data columns (total 26 columns):\n",
      " #   Column                          Non-Null Count   Dtype  \n",
      "---  ------                          --------------   -----  \n",
      " 0   hotel                           118902 non-null  int64  \n",
      " 1   is_canceled                     118902 non-null  int64  \n",
      " 2   lead_time                       118902 non-null  int64  \n",
      " 3   arrival_date_month              118902 non-null  int64  \n",
      " 4   stays_in_weekend_nights         118902 non-null  int64  \n",
      " 5   stays_in_week_nights            118902 non-null  int64  \n",
      " 6   meal                            118902 non-null  int32  \n",
      " 7   country                         118902 non-null  int32  \n",
      " 8   market_segment                  118902 non-null  int32  \n",
      " 9   distribution_channel            118902 non-null  int32  \n",
      " 10  is_repeated_guest               118902 non-null  int64  \n",
      " 11  previous_cancellations          118902 non-null  int64  \n",
      " 12  previous_bookings_not_canceled  118902 non-null  int64  \n",
      " 13  reserved_room_type              118902 non-null  int32  \n",
      " 14  assigned_room_type              118902 non-null  int32  \n",
      " 15  booking_changes                 118902 non-null  int64  \n",
      " 16  deposit_type                    118902 non-null  int32  \n",
      " 17  agent                           102896 non-null  float64\n",
      " 18  company                         6623 non-null    float64\n",
      " 19  days_in_waiting_list            118902 non-null  int64  \n",
      " 20  customer_type                   118902 non-null  int32  \n",
      " 21  adr                             118902 non-null  float64\n",
      " 22  required_car_parking_spaces     118902 non-null  int64  \n",
      " 23  total_of_special_requests       118902 non-null  int64  \n",
      " 24  is_family                       118902 non-null  int64  \n",
      " 25  total_customer                  118902 non-null  float64\n",
      "dtypes: float64(4), int32(8), int64(14)\n",
      "memory usage: 20.9 MB\n"
     ]
    }
   ],
   "source": [
    "df.info()"
   ]
  },
  {
   "cell_type": "code",
   "execution_count": 12,
   "metadata": {},
   "outputs": [
    {
     "data": {
      "text/html": [
       "<div>\n",
       "<style scoped>\n",
       "    .dataframe tbody tr th:only-of-type {\n",
       "        vertical-align: middle;\n",
       "    }\n",
       "\n",
       "    .dataframe tbody tr th {\n",
       "        vertical-align: top;\n",
       "    }\n",
       "\n",
       "    .dataframe thead th {\n",
       "        text-align: right;\n",
       "    }\n",
       "</style>\n",
       "<table border=\"1\" class=\"dataframe\">\n",
       "  <thead>\n",
       "    <tr style=\"text-align: right;\">\n",
       "      <th></th>\n",
       "      <th>hotel</th>\n",
       "      <th>is_canceled</th>\n",
       "      <th>lead_time</th>\n",
       "      <th>arrival_date_month</th>\n",
       "      <th>stays_in_weekend_nights</th>\n",
       "      <th>stays_in_week_nights</th>\n",
       "      <th>meal</th>\n",
       "      <th>country</th>\n",
       "      <th>market_segment</th>\n",
       "      <th>distribution_channel</th>\n",
       "      <th>...</th>\n",
       "      <th>deposit_type</th>\n",
       "      <th>agent</th>\n",
       "      <th>company</th>\n",
       "      <th>days_in_waiting_list</th>\n",
       "      <th>customer_type</th>\n",
       "      <th>adr</th>\n",
       "      <th>required_car_parking_spaces</th>\n",
       "      <th>total_of_special_requests</th>\n",
       "      <th>is_family</th>\n",
       "      <th>total_customer</th>\n",
       "    </tr>\n",
       "  </thead>\n",
       "  <tbody>\n",
       "    <tr>\n",
       "      <th>0</th>\n",
       "      <td>0</td>\n",
       "      <td>0</td>\n",
       "      <td>342</td>\n",
       "      <td>7</td>\n",
       "      <td>0</td>\n",
       "      <td>0</td>\n",
       "      <td>0</td>\n",
       "      <td>135</td>\n",
       "      <td>3</td>\n",
       "      <td>1</td>\n",
       "      <td>...</td>\n",
       "      <td>0</td>\n",
       "      <td>NaN</td>\n",
       "      <td>NaN</td>\n",
       "      <td>0</td>\n",
       "      <td>2</td>\n",
       "      <td>0.0</td>\n",
       "      <td>0</td>\n",
       "      <td>0</td>\n",
       "      <td>0</td>\n",
       "      <td>2.0</td>\n",
       "    </tr>\n",
       "    <tr>\n",
       "      <th>1</th>\n",
       "      <td>0</td>\n",
       "      <td>0</td>\n",
       "      <td>737</td>\n",
       "      <td>7</td>\n",
       "      <td>0</td>\n",
       "      <td>0</td>\n",
       "      <td>0</td>\n",
       "      <td>135</td>\n",
       "      <td>3</td>\n",
       "      <td>1</td>\n",
       "      <td>...</td>\n",
       "      <td>0</td>\n",
       "      <td>NaN</td>\n",
       "      <td>NaN</td>\n",
       "      <td>0</td>\n",
       "      <td>2</td>\n",
       "      <td>0.0</td>\n",
       "      <td>0</td>\n",
       "      <td>0</td>\n",
       "      <td>0</td>\n",
       "      <td>2.0</td>\n",
       "    </tr>\n",
       "    <tr>\n",
       "      <th>2</th>\n",
       "      <td>0</td>\n",
       "      <td>0</td>\n",
       "      <td>7</td>\n",
       "      <td>7</td>\n",
       "      <td>0</td>\n",
       "      <td>1</td>\n",
       "      <td>0</td>\n",
       "      <td>59</td>\n",
       "      <td>3</td>\n",
       "      <td>1</td>\n",
       "      <td>...</td>\n",
       "      <td>0</td>\n",
       "      <td>NaN</td>\n",
       "      <td>NaN</td>\n",
       "      <td>0</td>\n",
       "      <td>2</td>\n",
       "      <td>75.0</td>\n",
       "      <td>0</td>\n",
       "      <td>0</td>\n",
       "      <td>0</td>\n",
       "      <td>1.0</td>\n",
       "    </tr>\n",
       "    <tr>\n",
       "      <th>3</th>\n",
       "      <td>0</td>\n",
       "      <td>0</td>\n",
       "      <td>13</td>\n",
       "      <td>7</td>\n",
       "      <td>0</td>\n",
       "      <td>1</td>\n",
       "      <td>0</td>\n",
       "      <td>59</td>\n",
       "      <td>2</td>\n",
       "      <td>0</td>\n",
       "      <td>...</td>\n",
       "      <td>0</td>\n",
       "      <td>304.0</td>\n",
       "      <td>NaN</td>\n",
       "      <td>0</td>\n",
       "      <td>2</td>\n",
       "      <td>75.0</td>\n",
       "      <td>0</td>\n",
       "      <td>0</td>\n",
       "      <td>0</td>\n",
       "      <td>1.0</td>\n",
       "    </tr>\n",
       "    <tr>\n",
       "      <th>4</th>\n",
       "      <td>0</td>\n",
       "      <td>0</td>\n",
       "      <td>14</td>\n",
       "      <td>7</td>\n",
       "      <td>0</td>\n",
       "      <td>2</td>\n",
       "      <td>0</td>\n",
       "      <td>59</td>\n",
       "      <td>6</td>\n",
       "      <td>3</td>\n",
       "      <td>...</td>\n",
       "      <td>0</td>\n",
       "      <td>240.0</td>\n",
       "      <td>NaN</td>\n",
       "      <td>0</td>\n",
       "      <td>2</td>\n",
       "      <td>98.0</td>\n",
       "      <td>0</td>\n",
       "      <td>1</td>\n",
       "      <td>0</td>\n",
       "      <td>2.0</td>\n",
       "    </tr>\n",
       "  </tbody>\n",
       "</table>\n",
       "<p>5 rows × 26 columns</p>\n",
       "</div>"
      ],
      "text/plain": [
       "   hotel  is_canceled  lead_time  arrival_date_month  stays_in_weekend_nights  \\\n",
       "0      0            0        342                   7                        0   \n",
       "1      0            0        737                   7                        0   \n",
       "2      0            0          7                   7                        0   \n",
       "3      0            0         13                   7                        0   \n",
       "4      0            0         14                   7                        0   \n",
       "\n",
       "   stays_in_week_nights  meal  country  market_segment  distribution_channel  \\\n",
       "0                     0     0      135               3                     1   \n",
       "1                     0     0      135               3                     1   \n",
       "2                     1     0       59               3                     1   \n",
       "3                     1     0       59               2                     0   \n",
       "4                     2     0       59               6                     3   \n",
       "\n",
       "   ...  deposit_type  agent  company  days_in_waiting_list  customer_type  \\\n",
       "0  ...             0    NaN      NaN                     0              2   \n",
       "1  ...             0    NaN      NaN                     0              2   \n",
       "2  ...             0    NaN      NaN                     0              2   \n",
       "3  ...             0  304.0      NaN                     0              2   \n",
       "4  ...             0  240.0      NaN                     0              2   \n",
       "\n",
       "    adr  required_car_parking_spaces  total_of_special_requests  is_family  \\\n",
       "0   0.0                            0                          0          0   \n",
       "1   0.0                            0                          0          0   \n",
       "2  75.0                            0                          0          0   \n",
       "3  75.0                            0                          0          0   \n",
       "4  98.0                            0                          1          0   \n",
       "\n",
       "   total_customer  \n",
       "0             2.0  \n",
       "1             2.0  \n",
       "2             1.0  \n",
       "3             1.0  \n",
       "4             2.0  \n",
       "\n",
       "[5 rows x 26 columns]"
      ]
     },
     "execution_count": 12,
     "metadata": {},
     "output_type": "execute_result"
    }
   ],
   "source": [
    "df.head()"
   ]
  },
  {
   "cell_type": "code",
   "execution_count": 13,
   "metadata": {},
   "outputs": [],
   "source": [
    "#encoding both agent and company code\n",
    "\n",
    "df['agent_encoded'] = df['agent'].notnull()\n",
    "df['company_encoded'] = df['company'].notnull()\n",
    "df[\"agent_encoded\"] = df[\"agent_encoded\"].astype(int)\n",
    "df[\"company_encoded\"] = df[\"company_encoded\"].astype(int)\n",
    "df=df.drop(['agent','company'],axis = 1)"
   ]
  },
  {
   "cell_type": "code",
   "execution_count": 14,
   "metadata": {},
   "outputs": [
    {
     "name": "stdout",
     "output_type": "stream",
     "text": [
      "<class 'pandas.core.frame.DataFrame'>\n",
      "Int64Index: 118902 entries, 0 to 119389\n",
      "Data columns (total 26 columns):\n",
      " #   Column                          Non-Null Count   Dtype  \n",
      "---  ------                          --------------   -----  \n",
      " 0   hotel                           118902 non-null  int64  \n",
      " 1   is_canceled                     118902 non-null  int64  \n",
      " 2   lead_time                       118902 non-null  int64  \n",
      " 3   arrival_date_month              118902 non-null  int64  \n",
      " 4   stays_in_weekend_nights         118902 non-null  int64  \n",
      " 5   stays_in_week_nights            118902 non-null  int64  \n",
      " 6   meal                            118902 non-null  int32  \n",
      " 7   country                         118902 non-null  int32  \n",
      " 8   market_segment                  118902 non-null  int32  \n",
      " 9   distribution_channel            118902 non-null  int32  \n",
      " 10  is_repeated_guest               118902 non-null  int64  \n",
      " 11  previous_cancellations          118902 non-null  int64  \n",
      " 12  previous_bookings_not_canceled  118902 non-null  int64  \n",
      " 13  reserved_room_type              118902 non-null  int32  \n",
      " 14  assigned_room_type              118902 non-null  int32  \n",
      " 15  booking_changes                 118902 non-null  int64  \n",
      " 16  deposit_type                    118902 non-null  int32  \n",
      " 17  days_in_waiting_list            118902 non-null  int64  \n",
      " 18  customer_type                   118902 non-null  int32  \n",
      " 19  adr                             118902 non-null  float64\n",
      " 20  required_car_parking_spaces     118902 non-null  int64  \n",
      " 21  total_of_special_requests       118902 non-null  int64  \n",
      " 22  is_family                       118902 non-null  int64  \n",
      " 23  total_customer                  118902 non-null  float64\n",
      " 24  agent_encoded                   118902 non-null  int32  \n",
      " 25  company_encoded                 118902 non-null  int32  \n",
      "dtypes: float64(2), int32(10), int64(14)\n",
      "memory usage: 20.0 MB\n"
     ]
    }
   ],
   "source": [
    "df.info()"
   ]
  },
  {
   "cell_type": "code",
   "execution_count": 15,
   "metadata": {},
   "outputs": [],
   "source": [
    "column_list=list(df.columns)\n",
    "column_list.remove('is_canceled')"
   ]
  },
  {
   "cell_type": "code",
   "execution_count": 16,
   "metadata": {},
   "outputs": [],
   "source": [
    "# features\n",
    "X = df[column_list]\n",
    "\n",
    "# target\n",
    "y = df['is_canceled']"
   ]
  },
  {
   "cell_type": "code",
   "execution_count": 17,
   "metadata": {},
   "outputs": [],
   "source": [
    "from sklearn.model_selection import train_test_split\n",
    "# split into training and test set\n",
    "X_train, X_test, y_train, y_test = train_test_split(X, y, test_size=0.2, random_state=420)"
   ]
  },
  {
   "cell_type": "markdown",
   "metadata": {},
   "source": [
    "## Basic Random Forest"
   ]
  },
  {
   "cell_type": "code",
   "execution_count": 19,
   "metadata": {},
   "outputs": [
    {
     "data": {
      "text/plain": [
       "GridSearchCV(cv=5, estimator=RandomForestClassifier(),\n",
       "             param_grid={'criterion': ['entropy', 'gini'],\n",
       "                         'max_depth': [10, 15, None],\n",
       "                         'min_samples_leaf': [1, 5],\n",
       "                         'min_samples_split': [2, 5],\n",
       "                         'n_estimators': [50, 100, 200]},\n",
       "             scoring='f1')"
      ]
     },
     "execution_count": 19,
     "metadata": {},
     "output_type": "execute_result"
    }
   ],
   "source": [
    "from sklearn.ensemble import RandomForestClassifier\n",
    "from sklearn.model_selection import GridSearchCV\n",
    "from sklearn.metrics import accuracy_score, f1_score\n",
    "\n",
    "params = {\n",
    "        'criterion': ['entropy', 'gini'],\n",
    "        'n_estimators': [50, 100, 200],\n",
    "        'max_depth': [10, 15, None],\n",
    "        'min_samples_split': [2, 5],\n",
    "        'min_samples_leaf': [1, 5]\n",
    "        }\n",
    "\n",
    "model = RandomForestClassifier()\n",
    "search = GridSearchCV(model, param_grid=params, scoring='f1', cv=5)\n",
    "search.fit(X_train, y_train)\n",
    "# y_pred = model.predict(X_test)\n",
    "# accuracy = accuracy_score(y_test, y_pred)\n",
    "# print(\"Accuracy: %.2f%%\" % (accuracy * 100.0))"
   ]
  },
  {
   "cell_type": "code",
   "execution_count": 20,
   "metadata": {},
   "outputs": [
    {
     "data": {
      "text/plain": [
       "{'criterion': 'entropy',\n",
       " 'max_depth': None,\n",
       " 'min_samples_leaf': 1,\n",
       " 'min_samples_split': 2,\n",
       " 'n_estimators': 200}"
      ]
     },
     "execution_count": 20,
     "metadata": {},
     "output_type": "execute_result"
    }
   ],
   "source": [
    "search.best_params_"
   ]
  },
  {
   "cell_type": "code",
   "execution_count": 32,
   "metadata": {},
   "outputs": [
    {
     "name": "stdout",
     "output_type": "stream",
     "text": [
      "Accuracy: 88.77%\n",
      "Precision: 87.73%\n",
      "Recall: 81.28%\n",
      "F1: 84.38%\n",
      "AUROC: 95.519%\n"
     ]
    }
   ],
   "source": [
    "from sklearn.metrics import accuracy_score, f1_score, precision_score, recall_score, roc_auc_score\n",
    "\n",
    "model = RandomForestClassifier(criterion = \"entropy\", max_depth = None, min_samples_leaf = 1, min_samples_split = 2, n_estimators = 200)\n",
    "model.fit(X_train, y_train)\n",
    "y_pred = model.predict(X_test)\n",
    "accuracy = accuracy_score(y_test, y_pred)\n",
    "precision = precision_score(y_test, y_pred)\n",
    "recall = recall_score(y_test, y_pred)\n",
    "f1 = f1_score(y_test, y_pred)\n",
    "print(\"Accuracy: %.2f%%\" % (accuracy * 100.0))\n",
    "print(\"Precision: %.2f%%\" % (precision * 100.0))\n",
    "print(\"Recall: %.2f%%\" % (recall * 100.0))\n",
    "print(\"F1: %.2f%%\" % (f1 * 100.0))\n",
    "y_pred_prob = model.predict_proba(X_test)[:,1]\n",
    "print(\"AUROC: %.3f%%\" % (roc_auc_score(y_test, y_pred_prob) * 100.0))"
   ]
  },
  {
   "cell_type": "markdown",
   "metadata": {},
   "source": [
    "### Random Forest with Scaling"
   ]
  },
  {
   "cell_type": "code",
   "execution_count": 33,
   "metadata": {},
   "outputs": [],
   "source": [
    "# create copy of DF for scaling\n",
    "X_scaled = X.copy()"
   ]
  },
  {
   "cell_type": "code",
   "execution_count": 34,
   "metadata": {},
   "outputs": [],
   "source": [
    "from sklearn.preprocessing import StandardScaler\n",
    "\n",
    "columns_to_scale = ['lead_time', 'stays_in_weekend_nights', 'stays_in_week_nights',\n",
    "                    'previous_cancellations', 'previous_bookings_not_canceled',\n",
    "                    'booking_changes', 'days_in_waiting_list', 'adr', 'required_car_parking_spaces',\n",
    "                    'total_of_special_requests', 'total_customer']\n",
    "\n",
    "remaining_columns = [x for x in X_scaled.columns if x not in columns_to_scale]\n",
    "\n",
    "\n",
    "# Scale columns\n",
    "scaler = StandardScaler()\n",
    "\n",
    "X_scaled[columns_to_scale] = scaler.fit_transform(X_scaled[columns_to_scale]) # to learn mean and standard dev to be used for scaling\n"
   ]
  },
  {
   "cell_type": "code",
   "execution_count": 35,
   "metadata": {},
   "outputs": [],
   "source": [
    "# Train Test Split with Scaling\n",
    "X_scaled_train, X_scaled_test, y_train, y_test = train_test_split(X_scaled, y, test_size=0.2, random_state=420)"
   ]
  },
  {
   "cell_type": "code",
   "execution_count": 36,
   "metadata": {},
   "outputs": [
    {
     "name": "stdout",
     "output_type": "stream",
     "text": [
      "Accuracy: 88.76%\n",
      "Precision: 87.61%\n",
      "Recall: 81.39%\n",
      "F1: 84.38%\n",
      "AUROC: 84.040%\n"
     ]
    }
   ],
   "source": [
    "model.fit(X_scaled_train, y_train)\n",
    "y_pred = model.predict(X_scaled_test)\n",
    "accuracy = accuracy_score(y_test, y_pred)\n",
    "precision = precision_score(y_test, y_pred)\n",
    "recall = recall_score(y_test, y_pred)\n",
    "f1 = f1_score(y_test, y_pred)\n",
    "print(\"Accuracy: %.2f%%\" % (accuracy * 100.0))\n",
    "print(\"Precision: %.2f%%\" % (precision * 100.0))\n",
    "print(\"Recall: %.2f%%\" % (recall * 100.0))\n",
    "print(\"F1: %.2f%%\" % (f1 * 100.0))\n",
    "y_pred_prob = model.predict_proba(X_test)[:,1]\n",
    "print(\"AUROC: %.3f%%\" % (roc_auc_score(y_test, y_pred_prob) * 100.0))"
   ]
  },
  {
   "cell_type": "markdown",
   "metadata": {},
   "source": [
    "### Random Forest with Scaling and PCA"
   ]
  },
  {
   "cell_type": "code",
   "execution_count": 37,
   "metadata": {},
   "outputs": [],
   "source": [
    "X_pca = X_scaled.copy()"
   ]
  },
  {
   "cell_type": "code",
   "execution_count": 38,
   "metadata": {
    "scrolled": true
   },
   "outputs": [
    {
     "name": "stdout",
     "output_type": "stream",
     "text": [
      "explained var ratio [9.84661267e-01 4.71420598e-03 3.07917134e-03 1.23227590e-03\n",
      " 7.51702092e-04 6.31532435e-04 5.56456504e-04 5.35484194e-04\n",
      " 5.09631816e-04 4.93942207e-04 4.47154757e-04]\n",
      "sum 0.9976128238380535\n"
     ]
    },
    {
     "data": {
      "text/html": [
       "<div>\n",
       "<style scoped>\n",
       "    .dataframe tbody tr th:only-of-type {\n",
       "        vertical-align: middle;\n",
       "    }\n",
       "\n",
       "    .dataframe tbody tr th {\n",
       "        vertical-align: top;\n",
       "    }\n",
       "\n",
       "    .dataframe thead th {\n",
       "        text-align: right;\n",
       "    }\n",
       "</style>\n",
       "<table border=\"1\" class=\"dataframe\">\n",
       "  <thead>\n",
       "    <tr style=\"text-align: right;\">\n",
       "      <th></th>\n",
       "      <th>pc0</th>\n",
       "      <th>pc1</th>\n",
       "      <th>pc2</th>\n",
       "      <th>pc3</th>\n",
       "      <th>pc4</th>\n",
       "      <th>pc5</th>\n",
       "      <th>pc6</th>\n",
       "      <th>pc7</th>\n",
       "      <th>pc8</th>\n",
       "      <th>pc9</th>\n",
       "      <th>pc10</th>\n",
       "    </tr>\n",
       "  </thead>\n",
       "  <tbody>\n",
       "    <tr>\n",
       "      <th>0</th>\n",
       "      <td>-42.034515</td>\n",
       "      <td>-0.376198</td>\n",
       "      <td>0.932633</td>\n",
       "      <td>-2.830173</td>\n",
       "      <td>1.186090</td>\n",
       "      <td>-0.605673</td>\n",
       "      <td>-1.304855</td>\n",
       "      <td>0.584428</td>\n",
       "      <td>0.775101</td>\n",
       "      <td>-2.213400</td>\n",
       "      <td>-3.153266</td>\n",
       "    </tr>\n",
       "    <tr>\n",
       "      <th>1</th>\n",
       "      <td>-42.037614</td>\n",
       "      <td>-0.554474</td>\n",
       "      <td>0.742330</td>\n",
       "      <td>-2.459376</td>\n",
       "      <td>2.844762</td>\n",
       "      <td>-1.680876</td>\n",
       "      <td>-1.464983</td>\n",
       "      <td>1.392002</td>\n",
       "      <td>1.814646</td>\n",
       "      <td>-3.295452</td>\n",
       "      <td>-4.412650</td>\n",
       "    </tr>\n",
       "    <tr>\n",
       "      <th>2</th>\n",
       "      <td>33.953359</td>\n",
       "      <td>-0.372435</td>\n",
       "      <td>-0.759516</td>\n",
       "      <td>-3.537941</td>\n",
       "      <td>-0.777114</td>\n",
       "      <td>-0.377454</td>\n",
       "      <td>-0.468921</td>\n",
       "      <td>-0.543039</td>\n",
       "      <td>-0.862095</td>\n",
       "      <td>0.189525</td>\n",
       "      <td>0.061694</td>\n",
       "    </tr>\n",
       "    <tr>\n",
       "      <th>3</th>\n",
       "      <td>33.937846</td>\n",
       "      <td>-0.372741</td>\n",
       "      <td>-2.191080</td>\n",
       "      <td>-4.289778</td>\n",
       "      <td>-0.389914</td>\n",
       "      <td>-0.231609</td>\n",
       "      <td>-0.551343</td>\n",
       "      <td>-0.334350</td>\n",
       "      <td>-0.053594</td>\n",
       "      <td>1.046735</td>\n",
       "      <td>0.107302</td>\n",
       "    </tr>\n",
       "    <tr>\n",
       "      <th>4</th>\n",
       "      <td>33.986321</td>\n",
       "      <td>-0.469003</td>\n",
       "      <td>-1.691806</td>\n",
       "      <td>0.544929</td>\n",
       "      <td>-1.318948</td>\n",
       "      <td>0.115069</td>\n",
       "      <td>0.397515</td>\n",
       "      <td>-0.778485</td>\n",
       "      <td>0.195386</td>\n",
       "      <td>-0.017526</td>\n",
       "      <td>-0.139974</td>\n",
       "    </tr>\n",
       "    <tr>\n",
       "      <th>...</th>\n",
       "      <td>...</td>\n",
       "      <td>...</td>\n",
       "      <td>...</td>\n",
       "      <td>...</td>\n",
       "      <td>...</td>\n",
       "      <td>...</td>\n",
       "      <td>...</td>\n",
       "      <td>...</td>\n",
       "      <td>...</td>\n",
       "      <td>...</td>\n",
       "      <td>...</td>\n",
       "    </tr>\n",
       "    <tr>\n",
       "      <th>118897</th>\n",
       "      <td>77.979154</td>\n",
       "      <td>-1.551168</td>\n",
       "      <td>-1.961779</td>\n",
       "      <td>-0.242647</td>\n",
       "      <td>1.103623</td>\n",
       "      <td>0.067996</td>\n",
       "      <td>0.178831</td>\n",
       "      <td>-0.979067</td>\n",
       "      <td>-0.156360</td>\n",
       "      <td>0.752657</td>\n",
       "      <td>0.390723</td>\n",
       "    </tr>\n",
       "    <tr>\n",
       "      <th>118898</th>\n",
       "      <td>37.037002</td>\n",
       "      <td>-1.636929</td>\n",
       "      <td>4.496027</td>\n",
       "      <td>1.670637</td>\n",
       "      <td>0.469614</td>\n",
       "      <td>0.326455</td>\n",
       "      <td>0.647095</td>\n",
       "      <td>-0.108955</td>\n",
       "      <td>1.095428</td>\n",
       "      <td>0.950340</td>\n",
       "      <td>-0.207976</td>\n",
       "    </tr>\n",
       "    <tr>\n",
       "      <th>118899</th>\n",
       "      <td>50.032160</td>\n",
       "      <td>-1.603258</td>\n",
       "      <td>2.832234</td>\n",
       "      <td>1.469049</td>\n",
       "      <td>0.049207</td>\n",
       "      <td>1.760798</td>\n",
       "      <td>1.180357</td>\n",
       "      <td>-1.089256</td>\n",
       "      <td>0.869395</td>\n",
       "      <td>-0.187385</td>\n",
       "      <td>-0.166252</td>\n",
       "    </tr>\n",
       "    <tr>\n",
       "      <th>118900</th>\n",
       "      <td>33.989613</td>\n",
       "      <td>-1.532029</td>\n",
       "      <td>-1.660343</td>\n",
       "      <td>0.996491</td>\n",
       "      <td>1.174371</td>\n",
       "      <td>-0.011868</td>\n",
       "      <td>0.288859</td>\n",
       "      <td>-0.953554</td>\n",
       "      <td>-0.085797</td>\n",
       "      <td>0.485775</td>\n",
       "      <td>0.283784</td>\n",
       "    </tr>\n",
       "    <tr>\n",
       "      <th>118901</th>\n",
       "      <td>50.006099</td>\n",
       "      <td>-1.658534</td>\n",
       "      <td>-1.560917</td>\n",
       "      <td>2.039802</td>\n",
       "      <td>1.689889</td>\n",
       "      <td>1.468052</td>\n",
       "      <td>0.167414</td>\n",
       "      <td>0.580435</td>\n",
       "      <td>0.444363</td>\n",
       "      <td>0.490638</td>\n",
       "      <td>0.401072</td>\n",
       "    </tr>\n",
       "  </tbody>\n",
       "</table>\n",
       "<p>118902 rows × 11 columns</p>\n",
       "</div>"
      ],
      "text/plain": [
       "              pc0       pc1       pc2       pc3       pc4       pc5       pc6  \\\n",
       "0      -42.034515 -0.376198  0.932633 -2.830173  1.186090 -0.605673 -1.304855   \n",
       "1      -42.037614 -0.554474  0.742330 -2.459376  2.844762 -1.680876 -1.464983   \n",
       "2       33.953359 -0.372435 -0.759516 -3.537941 -0.777114 -0.377454 -0.468921   \n",
       "3       33.937846 -0.372741 -2.191080 -4.289778 -0.389914 -0.231609 -0.551343   \n",
       "4       33.986321 -0.469003 -1.691806  0.544929 -1.318948  0.115069  0.397515   \n",
       "...           ...       ...       ...       ...       ...       ...       ...   \n",
       "118897  77.979154 -1.551168 -1.961779 -0.242647  1.103623  0.067996  0.178831   \n",
       "118898  37.037002 -1.636929  4.496027  1.670637  0.469614  0.326455  0.647095   \n",
       "118899  50.032160 -1.603258  2.832234  1.469049  0.049207  1.760798  1.180357   \n",
       "118900  33.989613 -1.532029 -1.660343  0.996491  1.174371 -0.011868  0.288859   \n",
       "118901  50.006099 -1.658534 -1.560917  2.039802  1.689889  1.468052  0.167414   \n",
       "\n",
       "             pc7       pc8       pc9      pc10  \n",
       "0       0.584428  0.775101 -2.213400 -3.153266  \n",
       "1       1.392002  1.814646 -3.295452 -4.412650  \n",
       "2      -0.543039 -0.862095  0.189525  0.061694  \n",
       "3      -0.334350 -0.053594  1.046735  0.107302  \n",
       "4      -0.778485  0.195386 -0.017526 -0.139974  \n",
       "...          ...       ...       ...       ...  \n",
       "118897 -0.979067 -0.156360  0.752657  0.390723  \n",
       "118898 -0.108955  1.095428  0.950340 -0.207976  \n",
       "118899 -1.089256  0.869395 -0.187385 -0.166252  \n",
       "118900 -0.953554 -0.085797  0.485775  0.283784  \n",
       "118901  0.580435  0.444363  0.490638  0.401072  \n",
       "\n",
       "[118902 rows x 11 columns]"
      ]
     },
     "execution_count": 38,
     "metadata": {},
     "output_type": "execute_result"
    }
   ],
   "source": [
    "from sklearn.decomposition import PCA\n",
    "\n",
    "# 11 randomly chosen, might want to change number of principle components\n",
    "n = 11 \n",
    "pca = PCA(n_components=n, random_state=69)\n",
    "pca_components = pca.fit_transform(X_pca)\n",
    "print('explained var ratio', pca.explained_variance_ratio_)\n",
    "print('sum', sum(pca.explained_variance_ratio_))\n",
    "\n",
    "columns = []\n",
    "for i in range(n):\n",
    "    x = \"pc\" + str(i)\n",
    "    columns.append(x)\n",
    "\n",
    "# convert numpy array to dataframe\n",
    "X_pca = pd.DataFrame(pca_components, columns=columns)\n",
    "X_pca"
   ]
  },
  {
   "cell_type": "code",
   "execution_count": 39,
   "metadata": {},
   "outputs": [],
   "source": [
    "# Train Test Split with Scaling and PCA\n",
    "X_pca_scaled_train, X_pca_scaled_test, y_train, y_test = train_test_split(X_pca, y, test_size=0.2, random_state=420)"
   ]
  },
  {
   "cell_type": "code",
   "execution_count": 40,
   "metadata": {},
   "outputs": [
    {
     "name": "stdout",
     "output_type": "stream",
     "text": [
      "Accuracy: 86.90%\n",
      "Precision: 86.79%\n",
      "Recall: 76.56%\n",
      "F1: 81.36%\n"
     ]
    },
    {
     "ename": "ValueError",
     "evalue": "Number of features of the model must match the input. Model n_features is 11 and input n_features is 25 ",
     "output_type": "error",
     "traceback": [
      "\u001b[1;31m---------------------------------------------------------------------------\u001b[0m",
      "\u001b[1;31mValueError\u001b[0m                                Traceback (most recent call last)",
      "\u001b[1;32m<ipython-input-40-64cb88c4f091>\u001b[0m in \u001b[0;36m<module>\u001b[1;34m\u001b[0m\n\u001b[0;32m      9\u001b[0m \u001b[0mprint\u001b[0m\u001b[1;33m(\u001b[0m\u001b[1;34m\"Recall: %.2f%%\"\u001b[0m \u001b[1;33m%\u001b[0m \u001b[1;33m(\u001b[0m\u001b[0mrecall\u001b[0m \u001b[1;33m*\u001b[0m \u001b[1;36m100.0\u001b[0m\u001b[1;33m)\u001b[0m\u001b[1;33m)\u001b[0m\u001b[1;33m\u001b[0m\u001b[1;33m\u001b[0m\u001b[0m\n\u001b[0;32m     10\u001b[0m \u001b[0mprint\u001b[0m\u001b[1;33m(\u001b[0m\u001b[1;34m\"F1: %.2f%%\"\u001b[0m \u001b[1;33m%\u001b[0m \u001b[1;33m(\u001b[0m\u001b[0mf1\u001b[0m \u001b[1;33m*\u001b[0m \u001b[1;36m100.0\u001b[0m\u001b[1;33m)\u001b[0m\u001b[1;33m)\u001b[0m\u001b[1;33m\u001b[0m\u001b[1;33m\u001b[0m\u001b[0m\n\u001b[1;32m---> 11\u001b[1;33m \u001b[0my_pred_prob\u001b[0m \u001b[1;33m=\u001b[0m \u001b[0mmodel\u001b[0m\u001b[1;33m.\u001b[0m\u001b[0mpredict_proba\u001b[0m\u001b[1;33m(\u001b[0m\u001b[0mX_test\u001b[0m\u001b[1;33m)\u001b[0m\u001b[1;33m[\u001b[0m\u001b[1;33m:\u001b[0m\u001b[1;33m,\u001b[0m\u001b[1;36m1\u001b[0m\u001b[1;33m]\u001b[0m\u001b[1;33m\u001b[0m\u001b[1;33m\u001b[0m\u001b[0m\n\u001b[0m\u001b[0;32m     12\u001b[0m \u001b[0mprint\u001b[0m\u001b[1;33m(\u001b[0m\u001b[1;34m\"AUROC: %.3f%%\"\u001b[0m \u001b[1;33m%\u001b[0m \u001b[1;33m(\u001b[0m\u001b[0mroc_auc_score\u001b[0m\u001b[1;33m(\u001b[0m\u001b[0my_test\u001b[0m\u001b[1;33m,\u001b[0m \u001b[0my_pred_prob\u001b[0m\u001b[1;33m)\u001b[0m \u001b[1;33m*\u001b[0m \u001b[1;36m100.0\u001b[0m\u001b[1;33m)\u001b[0m\u001b[1;33m)\u001b[0m\u001b[1;33m\u001b[0m\u001b[1;33m\u001b[0m\u001b[0m\n",
      "\u001b[1;32m~\\anaconda3\\lib\\site-packages\\sklearn\\ensemble\\_forest.py\u001b[0m in \u001b[0;36mpredict_proba\u001b[1;34m(self, X)\u001b[0m\n\u001b[0;32m    671\u001b[0m         \u001b[0mcheck_is_fitted\u001b[0m\u001b[1;33m(\u001b[0m\u001b[0mself\u001b[0m\u001b[1;33m)\u001b[0m\u001b[1;33m\u001b[0m\u001b[1;33m\u001b[0m\u001b[0m\n\u001b[0;32m    672\u001b[0m         \u001b[1;31m# Check data\u001b[0m\u001b[1;33m\u001b[0m\u001b[1;33m\u001b[0m\u001b[1;33m\u001b[0m\u001b[0m\n\u001b[1;32m--> 673\u001b[1;33m         \u001b[0mX\u001b[0m \u001b[1;33m=\u001b[0m \u001b[0mself\u001b[0m\u001b[1;33m.\u001b[0m\u001b[0m_validate_X_predict\u001b[0m\u001b[1;33m(\u001b[0m\u001b[0mX\u001b[0m\u001b[1;33m)\u001b[0m\u001b[1;33m\u001b[0m\u001b[1;33m\u001b[0m\u001b[0m\n\u001b[0m\u001b[0;32m    674\u001b[0m \u001b[1;33m\u001b[0m\u001b[0m\n\u001b[0;32m    675\u001b[0m         \u001b[1;31m# Assign chunk of trees to jobs\u001b[0m\u001b[1;33m\u001b[0m\u001b[1;33m\u001b[0m\u001b[1;33m\u001b[0m\u001b[0m\n",
      "\u001b[1;32m~\\anaconda3\\lib\\site-packages\\sklearn\\ensemble\\_forest.py\u001b[0m in \u001b[0;36m_validate_X_predict\u001b[1;34m(self, X)\u001b[0m\n\u001b[0;32m    419\u001b[0m         \u001b[0mcheck_is_fitted\u001b[0m\u001b[1;33m(\u001b[0m\u001b[0mself\u001b[0m\u001b[1;33m)\u001b[0m\u001b[1;33m\u001b[0m\u001b[1;33m\u001b[0m\u001b[0m\n\u001b[0;32m    420\u001b[0m \u001b[1;33m\u001b[0m\u001b[0m\n\u001b[1;32m--> 421\u001b[1;33m         \u001b[1;32mreturn\u001b[0m \u001b[0mself\u001b[0m\u001b[1;33m.\u001b[0m\u001b[0mestimators_\u001b[0m\u001b[1;33m[\u001b[0m\u001b[1;36m0\u001b[0m\u001b[1;33m]\u001b[0m\u001b[1;33m.\u001b[0m\u001b[0m_validate_X_predict\u001b[0m\u001b[1;33m(\u001b[0m\u001b[0mX\u001b[0m\u001b[1;33m,\u001b[0m \u001b[0mcheck_input\u001b[0m\u001b[1;33m=\u001b[0m\u001b[1;32mTrue\u001b[0m\u001b[1;33m)\u001b[0m\u001b[1;33m\u001b[0m\u001b[1;33m\u001b[0m\u001b[0m\n\u001b[0m\u001b[0;32m    422\u001b[0m \u001b[1;33m\u001b[0m\u001b[0m\n\u001b[0;32m    423\u001b[0m     \u001b[1;33m@\u001b[0m\u001b[0mproperty\u001b[0m\u001b[1;33m\u001b[0m\u001b[1;33m\u001b[0m\u001b[0m\n",
      "\u001b[1;32m~\\anaconda3\\lib\\site-packages\\sklearn\\tree\\_classes.py\u001b[0m in \u001b[0;36m_validate_X_predict\u001b[1;34m(self, X, check_input)\u001b[0m\n\u001b[0;32m    394\u001b[0m         \u001b[0mn_features\u001b[0m \u001b[1;33m=\u001b[0m \u001b[0mX\u001b[0m\u001b[1;33m.\u001b[0m\u001b[0mshape\u001b[0m\u001b[1;33m[\u001b[0m\u001b[1;36m1\u001b[0m\u001b[1;33m]\u001b[0m\u001b[1;33m\u001b[0m\u001b[1;33m\u001b[0m\u001b[0m\n\u001b[0;32m    395\u001b[0m         \u001b[1;32mif\u001b[0m \u001b[0mself\u001b[0m\u001b[1;33m.\u001b[0m\u001b[0mn_features_\u001b[0m \u001b[1;33m!=\u001b[0m \u001b[0mn_features\u001b[0m\u001b[1;33m:\u001b[0m\u001b[1;33m\u001b[0m\u001b[1;33m\u001b[0m\u001b[0m\n\u001b[1;32m--> 396\u001b[1;33m             raise ValueError(\"Number of features of the model must \"\n\u001b[0m\u001b[0;32m    397\u001b[0m                              \u001b[1;34m\"match the input. Model n_features is %s and \"\u001b[0m\u001b[1;33m\u001b[0m\u001b[1;33m\u001b[0m\u001b[0m\n\u001b[0;32m    398\u001b[0m                              \u001b[1;34m\"input n_features is %s \"\u001b[0m\u001b[1;33m\u001b[0m\u001b[1;33m\u001b[0m\u001b[0m\n",
      "\u001b[1;31mValueError\u001b[0m: Number of features of the model must match the input. Model n_features is 11 and input n_features is 25 "
     ]
    }
   ],
   "source": [
    "model.fit(X_pca_scaled_train, y_train)\n",
    "y_pred = model.predict(X_pca_scaled_test)\n",
    "accuracy = accuracy_score(y_test, y_pred)\n",
    "precision = precision_score(y_test, y_pred)\n",
    "recall = recall_score(y_test, y_pred)\n",
    "f1 = f1_score(y_test, y_pred)\n",
    "print(\"Accuracy: %.2f%%\" % (accuracy * 100.0))\n",
    "print(\"Precision: %.2f%%\" % (precision * 100.0))\n",
    "print(\"Recall: %.2f%%\" % (recall * 100.0))\n",
    "print(\"F1: %.2f%%\" % (f1 * 100.0))\n",
    "y_pred_prob = model.predict_proba(X_test)[:,1]\n",
    "print(\"AUROC: %.3f%%\" % (roc_auc_score(y_test, y_pred_prob) * 100.0))"
   ]
  }
 ],
 "metadata": {
  "kernelspec": {
   "display_name": "Python 3",
   "language": "python",
   "name": "python3"
  },
  "language_info": {
   "codemirror_mode": {
    "name": "ipython",
    "version": 3
   },
   "file_extension": ".py",
   "mimetype": "text/x-python",
   "name": "python",
   "nbconvert_exporter": "python",
   "pygments_lexer": "ipython3",
   "version": "3.8.3"
  }
 },
 "nbformat": 4,
 "nbformat_minor": 4
}
